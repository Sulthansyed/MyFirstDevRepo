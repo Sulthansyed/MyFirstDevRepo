{
 "cells": [
  {
   "cell_type": "code",
   "execution_count": 5,
   "metadata": {
    "collapsed": false
   },
   "outputs": [
    {
     "name": "stdout",
     "output_type": "stream",
     "text": [
      "RT @MadrasMemoirs: Best thing I have seen in internet today.\n",
      "You win. Tamil people.\n",
      "#Jallikattu https://t.co/zMZ119Sp3e\n",
      "Sentiment(polarity=0.9, subjectivity=0.35)\n",
      "RT @ChakraNews: This. #JusticeforJallikattu #jallikattu #Jallikattuprotest https://t.co/8eCtQIyv3Z\n",
      "Sentiment(polarity=0.0, subjectivity=0.0)\n",
      "RT @gautamitads: #Jallikattu is only the tip of the iceberg. We must Save our CULTURE, our CATTLE, our ECONOMY! Is #PETA #MakeInIndia ??? @…\n",
      "Sentiment(polarity=0.0, subjectivity=1.0)\n",
      "RT @Rajni_FC: Salute #KarthikeyaSivasenapathy\n",
      "The Man U Really fought for #Jallikattu\n",
      "Resigned his Member board of manag of TN Agri Univ\n",
      "Le…\n",
      "Sentiment(polarity=0.2, subjectivity=0.2)\n",
      "RT @madonna_s: I extend my support to the people of Tamil Nadu, protesting to protect their traditional rights #Jallikattu\n",
      "#JusticeForJalli…\n",
      "Sentiment(polarity=0.0, subjectivity=0.75)\n",
      "RT @rishibagree: Killing Bulls for tastebud is freedom of expression\n",
      "But #Jallikattu is Cruelty to Bulls\n",
      "\n",
      "Hypocrisy of Liberals like @DeSho…\n",
      "Sentiment(polarity=0.0, subjectivity=0.0)\n",
      "RT @SKRaj97: Hatsoff தமிழா...💪💪💪\n",
      "#jallikattu\n",
      "#SaveOurCultureJALLIKATTU \n",
      "#jan18th8pmfortamilsunity https://t.co/XjaMuoYv8c\n",
      "Sentiment(polarity=0.0, subjectivity=0.0)\n",
      "RT @AshwinBalamohan: @PetaIndia Not the way to promote animal welfare. You've done incredible damage to your brand and to an otherwise nobl…\n",
      "Sentiment(polarity=0.9, subjectivity=0.9)\n",
      "RT @timesofindia: WATCH: Pro-jallikattu protesters are setting an example by keeping Marina Beach clean https://t.co/mWx0PSMBqz\n",
      "Sentiment(polarity=0.3666666666666667, subjectivity=0.7000000000000001)\n",
      "RT @galattadotcom: Youngsters protest against the #Jallikattu ban at #MarinaBeach in Chennai! \n",
      "\n",
      "#JusticeforJallikattu #Marinaprotest #SaveO…\n",
      "Sentiment(polarity=0.0, subjectivity=0.0)\n",
      "RT @urstrulyMahesh: #Jallikattu is the spirit of Tamil Nadu - bold and fearless.\n",
      "Sentiment(polarity=0.3333333333333333, subjectivity=0.6666666666666666)\n",
      "Jallikattu Protest : Anuradha Sriram Jallikattu Song: https://t.co/4aZ0cbvKWO via @YouTube\n",
      "Sentiment(polarity=0.0, subjectivity=0.0)\n",
      "RT @urstrulyMahesh: #Jallikattu is the spirit of Tamil Nadu - bold and fearless.\n",
      "Sentiment(polarity=0.3333333333333333, subjectivity=0.6666666666666666)\n",
      "RT @UnSubtleDesi: So HSI, on prior approval list by Congress, Thanks Jairam Ramesh for ban on Jallikattu (2014) and MMS thanks HSI for thei…\n",
      "Sentiment(polarity=0.13333333333333333, subjectivity=0.13333333333333333)\n",
      "Celebrity boost, swelling protests fail to tame Jallikattu row...\n",
      "Read More: https://t.co/PeWjSdogO5 https://t.co/4Ve0H3WOgN\n",
      "Sentiment(polarity=-0.07222222222222223, subjectivity=0.33888888888888885)\n"
     ]
    }
   ],
   "source": [
    "\t#************************************************SENTIMENT ANALYSIS WITH TWITTER DATA PROTYPE WITH PYTHON**************************************#\n",
    "\n",
    "# -*- coding: utf-8 -*-\n",
    "\"\"\"\n",
    "Created on Mon Dec 26 00:51:54 2016\n",
    "\n",
    "@author: Sulthan\n",
    "\"\"\"\n",
    "#library to access twitter data via streams\n",
    "import tweepy\n",
    "#Library to analyze the subject matter and weightage of words\n",
    "from textblob import TextBlob\n",
    "\n",
    "#Parameters to authenticate twitter data.\n",
    "consumer_key = 'dTg2G4ExIdSyXwdtGRDpbxNhh'\n",
    "consumer_secret = 'quW0aRtlRzhnuau8B8lPIll5B3k8FM0u1AL4WUwHgrhinGXdrQ'\n",
    "\n",
    "access_token = '174596170-AIyJbeLkpMSBCivFqcAGyOFwSfltgFkx0XofPjJC'\n",
    "access_token_secret = 'QaKFVzVWlRrL2iCnGvyD5q7FQ4YbT3zVDYhJWezUvz1A8'\n",
    "\n",
    "auth = tweepy.OAuthHandler(consumer_key, consumer_secret)\n",
    "auth.set_access_token(access_token, access_token_secret)\n",
    "#Invoking the twitter data API\n",
    "api = tweepy.API(auth)\n",
    "#Searching about the particula tweet people speaking in our case about Malaysia Airlines System and Berhad\n",
    "public_tweets = api.search('Jallikattu')\n",
    "\n",
    "#Some Condition to break the JSON data recieved from twitter and analyze each word represent\n",
    "\n",
    "for tweet in public_tweets :\n",
    "    tweetwords = tweet.text\n",
    "    print(tweetwords)\n",
    "    analysis = TextBlob(tweet.text)\n",
    "    print(analysis.sentiment)"
   ]
  },
  {
   "cell_type": "code",
   "execution_count": 8,
   "metadata": {
    "collapsed": false
   },
   "outputs": [
    {
     "name": "stdout",
     "output_type": "stream",
     "text": [
      "வன்முறை ..போராட்டத்தின் போக்கை திசை மாற்ற கூடும்.மேலும் மக்கள் மனதில் கசப்பை விதைக்கும். #tnagainstviolence#JusticeforJallikattu #jallikattu\n",
      "Sentiment(polarity=-0.2, subjectivity=0.05)\n",
      "RT @pudiharicharan: With #MaheshBabu extending his support for #Jallikattu, the issue has gone beyond borders and has become people's movem…\n",
      "Sentiment(polarity=-0.2, subjectivity=0.05)\n",
      "RT @urstrulyMahesh: #Jallikattu is the spirit of Tamil Nadu - bold and fearless.\n",
      "Sentiment(polarity=-0.2, subjectivity=0.05)\n",
      "RT @thanthitv: மெரினாவில் 4வது நாளாக தொடரும் போராட்டம் - உரிமைக்காக மனம் தளராமல் போராடும் இளைஞர்கள்..\n",
      "#Jallikattu #JusticeForJallikattu #Ja…\n",
      "Sentiment(polarity=-0.2, subjectivity=0.05)\n",
      "RT @mediacrooks: Cong BANNED #Jallikattu and thinks the whole country is a bunch of idiots like their Pappu boss.. @NewsX @Timesnow @indiat…\n",
      "Sentiment(polarity=-0.2, subjectivity=0.05)\n",
      "Just as Gujaratis didnt give a shit about SC's ban on manja and flew kites, Tamillians should celebrate #jallikattu by ignoring SC. #freedom\n",
      "Sentiment(polarity=-0.2, subjectivity=0.05)\n",
      "RT @behindwoods: \" Suppressed anger, Tamils have risen after 8 years \"-Uriyadi @Vijay_B_Kumar #Jallikattu https://t.co/CaE1htufbY\n",
      "Sentiment(polarity=-0.2, subjectivity=0.05)\n",
      "RT @soniandtv: Most remarkable thing about the #jallikattu protests is the young women staying at the beach with no fear of harassment.Delh…\n",
      "Sentiment(polarity=-0.2, subjectivity=0.05)\n",
      "RT @rrajesh629: @khushsundar \n",
      "தமிழன்டா நாங்க எங்களை தடுக்க நீங்க யார்\n",
      "#jallikattu https://t.co/DYpWDGcNFI\n",
      "Sentiment(polarity=-0.2, subjectivity=0.05)\n",
      "#jallikattu #Jallikattuprotest Hatsoff to Tamils for their unity! Incredible! #andhrapradesh #Telangana #tollywood Telugus, please learn!\n",
      "Sentiment(polarity=-0.2, subjectivity=0.05)\n",
      "RT @TKollywood: This Girl🙏🙏🙏🙏🙏🙏🙏🙏🙏🙏🙏🙏🙏🙏🙏🙏🙏🙏🙏🙏🙏🙏🙏🙏🙏🙏\n",
      "\n",
      "#Jallikattu #JallikattuProtest #JusticeforJallikattu #SaveOurCultureJALLIKATTU https:/…\n",
      "Sentiment(polarity=-0.2, subjectivity=0.05)\n",
      "RT @Actor_Vivek: தமிழ்நாட்டில் இதுவரை ஒரு அலங்காநல்லூர் !- ஆனால் இன்று\n",
      "தமிழ்நாடே ஒரு \"அடங்கா நல்லூர்\" save jallikattu support jallikattu\n",
      "Sentiment(polarity=-0.2, subjectivity=0.05)\n",
      "RT @thearvindswami: The AG of India says that #jallikattu can be brought in as a sport which is under the State List, and make strict rules…\n",
      "Sentiment(polarity=-0.2, subjectivity=0.05)\n",
      "RT @TimesNow: Another protester from Marina Beach says she came here as a Tamilian to fight against Jallikattu ban. Tweet your views on #Ma…\n",
      "Sentiment(polarity=-0.2, subjectivity=0.05)\n",
      "RT @behindwoods: Support for #Jallikattu from #Vietnam :) \n",
      "\n",
      "https://t.co/CEPLUYpYZE https://t.co/9RHcez8OdE\n",
      "Sentiment(polarity=-0.2, subjectivity=0.05)\n"
     ]
    }
   ],
   "source": [
    "\t#************************************************SENTIMENT ANALYSIS WITH TWITTER DATA PROTYPE WITH PYTHON**************************************#\n",
    "\n",
    "# -*- coding: utf-8 -*-\n",
    "\"\"\"\n",
    "Created on Mon Dec 26 00:51:54 2016\n",
    "\n",
    "@author: Sulthan\n",
    "\"\"\"\n",
    "#library to access twitter data via streams\n",
    "import tweepy\n",
    "#Library to analyze the subject matter and weightage of words\n",
    "from textblob import TextBlob\n",
    "\n",
    "#Parameters to authenticate twitter data.\n",
    "consumer_key = 'dTg2G4ExIdSyXwdtGRDpbxNhh'\n",
    "consumer_secret = 'quW0aRtlRzhnuau8B8lPIll5B3k8FM0u1AL4WUwHgrhinGXdrQ'\n",
    "\n",
    "access_token = '174596170-AIyJbeLkpMSBCivFqcAGyOFwSfltgFkx0XofPjJC'\n",
    "access_token_secret = 'QaKFVzVWlRrL2iCnGvyD5q7FQ4YbT3zVDYhJWezUvz1A8'\n",
    "\n",
    "auth = tweepy.OAuthHandler(consumer_key, consumer_secret)\n",
    "auth.set_access_token(access_token, access_token_secret)\n",
    "#Invoking the twitter data API\n",
    "api = tweepy.API(auth)\n",
    "#Searching about the particula tweet people speaking in our case about Malaysia Airlines System and Berhad\n",
    "public_tweets = api.search('jallikattu')\n",
    "\n",
    "#Some Condition to break the JSON data recieved from twitter and analyze each word represent about MAB\n",
    "\n",
    "for tweet in public_tweets :\n",
    "    tweetwords = tweet.text\n",
    "    print(tweetwords)\n",
    "    print(analysis.sentiment)"
   ]
  },
  {
   "cell_type": "code",
   "execution_count": null,
   "metadata": {
    "collapsed": true
   },
   "outputs": [],
   "source": []
  },
  {
   "cell_type": "code",
   "execution_count": null,
   "metadata": {
    "collapsed": true
   },
   "outputs": [],
   "source": []
  }
 ],
 "metadata": {
  "anaconda-cloud": {},
  "kernelspec": {
   "display_name": "Python [conda root]",
   "language": "python",
   "name": "conda-root-py"
  },
  "language_info": {
   "codemirror_mode": {
    "name": "ipython",
    "version": 3
   },
   "file_extension": ".py",
   "mimetype": "text/x-python",
   "name": "python",
   "nbconvert_exporter": "python",
   "pygments_lexer": "ipython3",
   "version": "3.5.2"
  }
 },
 "nbformat": 4,
 "nbformat_minor": 2
}
